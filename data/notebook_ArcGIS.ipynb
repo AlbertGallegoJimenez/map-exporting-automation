{
 "cells": [
  {
   "cell_type": "markdown",
   "metadata": {},
   "source": [
    "# Mapping results and exporting in ArcGIS Pro"
   ]
  },
  {
   "cell_type": "code",
   "execution_count": 1,
   "metadata": {},
   "outputs": [],
   "source": [
    "# Import the necessary libraries\n",
    "import os\n",
    "import arcgis\n",
    "import arcpy\n",
    "import pandas as pd"
   ]
  },
  {
   "cell_type": "code",
   "execution_count": 2,
   "metadata": {},
   "outputs": [],
   "source": [
    "# Set the workspace where the input layer is saved\n",
    "arcpy.env.workspace = os.getcwd()+'/test_map_exporting_automatization.gdb'"
   ]
  },
  {
   "cell_type": "code",
   "execution_count": 3,
   "metadata": {},
   "outputs": [],
   "source": [
    "# Set the variables (i.e. the project, map, layout and layer)\n",
    "aprx = arcpy.mp.ArcGISProject(\"CURRENT\")\n",
    "m = aprx.listMaps()[1] # The map with the 0 index is the BaseMap\n",
    "lyt = aprx.listLayouts()[0]\n",
    "inputLayer = m.listLayers()[0]"
   ]
  },
  {
   "cell_type": "code",
   "execution_count": 4,
   "metadata": {},
   "outputs": [
    {
     "data": {
      "text/html": [
       "<div>\n",
       "<style scoped>\n",
       "    .dataframe tbody tr th:only-of-type {\n",
       "        vertical-align: middle;\n",
       "    }\n",
       "\n",
       "    .dataframe tbody tr th {\n",
       "        vertical-align: top;\n",
       "    }\n",
       "\n",
       "    .dataframe thead th {\n",
       "        text-align: right;\n",
       "    }\n",
       "</style>\n",
       "<table border=\"1\" class=\"dataframe\">\n",
       "  <thead>\n",
       "    <tr style=\"text-align: right;\">\n",
       "      <th></th>\n",
       "      <th>OBJECTID</th>\n",
       "      <th>CU_ID</th>\n",
       "      <th>HBE</th>\n",
       "      <th>VBETS</th>\n",
       "      <th>RBEPop</th>\n",
       "      <th>RBETS</th>\n",
       "      <th>RBE</th>\n",
       "      <th>SHAPE</th>\n",
       "    </tr>\n",
       "  </thead>\n",
       "  <tbody>\n",
       "    <tr>\n",
       "      <th>5</th>\n",
       "      <td>6</td>\n",
       "      <td>6.0</td>\n",
       "      <td>0.000000</td>\n",
       "      <td>0.0</td>\n",
       "      <td>0.000000</td>\n",
       "      <td>0.000000</td>\n",
       "      <td>0.000000</td>\n",
       "      <td>{\"rings\": [[[458753.4764999999, 3964377.0702],...</td>\n",
       "    </tr>\n",
       "    <tr>\n",
       "      <th>6</th>\n",
       "      <td>7</td>\n",
       "      <td>7.0</td>\n",
       "      <td>3.227647</td>\n",
       "      <td>4.0</td>\n",
       "      <td>3.352299</td>\n",
       "      <td>3.613823</td>\n",
       "      <td>3.456909</td>\n",
       "      <td>{\"rings\": [[[457473.90720000025, 3965881.15369...</td>\n",
       "    </tr>\n",
       "    <tr>\n",
       "      <th>7</th>\n",
       "      <td>8</td>\n",
       "      <td>8.0</td>\n",
       "      <td>0.000000</td>\n",
       "      <td>0.0</td>\n",
       "      <td>0.000000</td>\n",
       "      <td>0.000000</td>\n",
       "      <td>0.000000</td>\n",
       "      <td>{\"rings\": [[[459040.5323000001, 3965195.129599...</td>\n",
       "    </tr>\n",
       "    <tr>\n",
       "      <th>8</th>\n",
       "      <td>9</td>\n",
       "      <td>9.0</td>\n",
       "      <td>2.833299</td>\n",
       "      <td>4.5</td>\n",
       "      <td>2.536253</td>\n",
       "      <td>3.666650</td>\n",
       "      <td>2.988412</td>\n",
       "      <td>{\"rings\": [[[459377.31799999997, 3966843.83520...</td>\n",
       "    </tr>\n",
       "    <tr>\n",
       "      <th>9</th>\n",
       "      <td>10</td>\n",
       "      <td>10.0</td>\n",
       "      <td>0.000000</td>\n",
       "      <td>0.0</td>\n",
       "      <td>0.000000</td>\n",
       "      <td>0.000000</td>\n",
       "      <td>0.000000</td>\n",
       "      <td>{\"rings\": [[[459648.49619999994, 3965635.33459...</td>\n",
       "    </tr>\n",
       "    <tr>\n",
       "      <th>10</th>\n",
       "      <td>11</td>\n",
       "      <td>11.0</td>\n",
       "      <td>0.000000</td>\n",
       "      <td>0.0</td>\n",
       "      <td>0.000000</td>\n",
       "      <td>0.000000</td>\n",
       "      <td>0.000000</td>\n",
       "      <td>{\"rings\": [[[461077.15330000035, 3967537.69690...</td>\n",
       "    </tr>\n",
       "  </tbody>\n",
       "</table>\n",
       "</div>"
      ],
      "text/plain": [
       "    OBJECTID  ...                                              SHAPE\n",
       "5          6  ...  {\"rings\": [[[458753.4764999999, 3964377.0702],...\n",
       "6          7  ...  {\"rings\": [[[457473.90720000025, 3965881.15369...\n",
       "7          8  ...  {\"rings\": [[[459040.5323000001, 3965195.129599...\n",
       "8          9  ...  {\"rings\": [[[459377.31799999997, 3966843.83520...\n",
       "9         10  ...  {\"rings\": [[[459648.49619999994, 3965635.33459...\n",
       "10        11  ...  {\"rings\": [[[461077.15330000035, 3967537.69690...\n",
       "\n",
       "[6 rows x 8 columns]"
      ]
     },
     "execution_count": 4,
     "metadata": {},
     "output_type": "execute_result"
    }
   ],
   "source": [
    "# Check how the attributes table of the layer looks like\n",
    "df = pd.DataFrame.spatial.from_featureclass(inputLayer.dataSource)\n",
    "df.loc[5:10]"
   ]
  },
  {
   "cell_type": "code",
   "execution_count": 5,
   "metadata": {},
   "outputs": [
    {
     "name": "stdout",
     "output_type": "stream",
     "text": [
      "['HBE', 'VBETS', 'RBEPop', 'RBETS', 'RBE']\n"
     ]
    }
   ],
   "source": [
    "# Get only the fields we want to symbolise\n",
    "namesFields = [field.name for field in arcpy.ListFields(inputLayer) if field.name not in ['OBJECTID', 'Shape', 'CU_ID', 'Shape_Length', 'Shape_Area']]\n",
    "# Let's see in which fields we are going to apply the symbology\n",
    "print(namesFields)"
   ]
  },
  {
   "cell_type": "code",
   "execution_count": 6,
   "metadata": {},
   "outputs": [],
   "source": [
    "# Define the titles of each map in a list\n",
    "mapTitles = ['Beach Erosion Hazard at CUs',\n",
    "            'Beach Erosion Tourism Sector Vulnerability at CUs',\n",
    "            'Beach Erosion Population Risk at CUs',\n",
    "            'Beach Erosion Tourism Sector Risk at CUs',\n",
    "            'Overall Beach Erosion Risk at CUs']"
   ]
  },
  {
   "cell_type": "code",
   "execution_count": 7,
   "metadata": {},
   "outputs": [],
   "source": [
    "# Apply the symbology for the different fields within a loop and export them as PNG files\n",
    "for field, title in zip(namesFields, mapTitles):\n",
    "    # Apply the symbology\n",
    "    arcpy.ApplySymbologyFromLayer_management(inputLayer, os.getcwd()+'/HVRLevelCU.lyr', \"VALUE_FIELD RBE {0}\".format(field), \"MAINTAIN\")\n",
    "    # Change the map title\n",
    "    m.name = title\n",
    "    # Export the map\n",
    "    lyt.exportToPNG(os.path.join(os.getcwd(), \"Map_{0}.png\".format(field)))"
   ]
  },
  {
   "cell_type": "markdown",
   "metadata": {},
   "source": [
    "### Let's see an example of what has been done...\n",
    "<img src=\"Map_RBE.png\" align=\"center\"/>"
   ]
  }
 ],
 "metadata": {
  "kernelspec": {
   "display_name": "ArcGISPro",
   "language": "Python",
   "name": "python3"
  },
  "language_info": {
   "file_extension": ".py",
   "name": "python",
   "version": "3"
  }
 },
 "nbformat": 4,
 "nbformat_minor": 2
}
